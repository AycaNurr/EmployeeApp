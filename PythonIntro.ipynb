{
  "nbformat": 4,
  "nbformat_minor": 0,
  "metadata": {
    "colab": {
      "name": "Untitled0.ipynb",
      "provenance": [],
      "authorship_tag": "ABX9TyNRChwCVJn1Qkwzh9XV/fWT",
      "include_colab_link": true
    },
    "kernelspec": {
      "name": "python3",
      "display_name": "Python 3"
    }
  },
  "cells": [
    {
      "cell_type": "markdown",
      "metadata": {
        "id": "view-in-github",
        "colab_type": "text"
      },
      "source": [
        "<a href=\"https://colab.research.google.com/github/AycaNurr/EmployeeApp/blob/master/PythonIntro.ipynb\" target=\"_parent\"><img src=\"https://colab.research.google.com/assets/colab-badge.svg\" alt=\"Open In Colab\"/></a>"
      ]
    },
    {
      "cell_type": "markdown",
      "metadata": {
        "id": "pOCFlvr4bkvq"
      },
      "source": [
        "# **`DERS 1`**"
      ]
    },
    {
      "cell_type": "markdown",
      "metadata": {
        "id": "IOx8fmIq03QM"
      },
      "source": [
        "**Print Komutu**"
      ]
    },
    {
      "cell_type": "code",
      "metadata": {
        "colab": {
          "base_uri": "https://localhost:8080/"
        },
        "id": "ubKLziUuwhbA",
        "outputId": "6dbb238a-a06e-4ecd-b3a6-df63e0a69e4f"
      },
      "source": [
        "print (\"Hello World\")"
      ],
      "execution_count": 3,
      "outputs": [
        {
          "output_type": "stream",
          "text": [
            "Hello World\n"
          ],
          "name": "stdout"
        }
      ]
    },
    {
      "cell_type": "markdown",
      "metadata": {
        "id": "hHUXeEN71cBF"
      },
      "source": [
        "**Değişken Tipleri**"
      ]
    },
    {
      "cell_type": "code",
      "metadata": {
        "colab": {
          "base_uri": "https://localhost:8080/"
        },
        "id": "crv-MCyD0ifm",
        "outputId": "d97ef9af-aa83-4fd1-c45c-1668e04e180b"
      },
      "source": [
        "number=15\r\n",
        "print(number)\r\n",
        "print(type(number))"
      ],
      "execution_count": 6,
      "outputs": [
        {
          "output_type": "stream",
          "text": [
            "15\n",
            "<class 'int'>\n"
          ],
          "name": "stdout"
        }
      ]
    },
    {
      "cell_type": "code",
      "metadata": {
        "colab": {
          "base_uri": "https://localhost:8080/"
        },
        "id": "TJIlt1XV11a1",
        "outputId": "0cc7a182-2543-4968-926c-2c38bc398bf4"
      },
      "source": [
        "karsilama=\"Merhaba\"\r\n",
        "print(karsilama)\r\n",
        "print(type(karsilama))\r\n",
        "print(len(karsilama))\r\n",
        "#str=string"
      ],
      "execution_count": 9,
      "outputs": [
        {
          "output_type": "stream",
          "text": [
            "Merhaba\n",
            "<class 'str'>\n",
            "7\n"
          ],
          "name": "stdout"
        }
      ]
    },
    {
      "cell_type": "code",
      "metadata": {
        "colab": {
          "base_uri": "https://localhost:8080/"
        },
        "id": "M0JuNEH-10Qa",
        "outputId": "8de53789-dd45-4734-b88a-3b72c4f4ebd9"
      },
      "source": [
        "flNumber=15.7\r\n",
        "print(flNumber)\r\n",
        "print(type(flNumber))"
      ],
      "execution_count": 11,
      "outputs": [
        {
          "output_type": "stream",
          "text": [
            "15.7\n",
            "<class 'float'>\n"
          ],
          "name": "stdout"
        }
      ]
    }
  ]
}